{
  "cells": [
    {
      "cell_type": "code",
      "execution_count": null,
      "metadata": {
        "colab": {
          "base_uri": "https://localhost:8080/"
        },
        "id": "ulyv-ABY9LyQ",
        "outputId": "62832d5a-8b40-4dd6-8d5e-551ef9ac9594"
      },
      "outputs": [
        {
          "name": "stdout",
          "output_type": "stream",
          "text": [
            "90.0\n"
          ]
        }
      ],
      "source": [
        "from sklearn.datasets import load_iris\n",
        "data=load_iris()\n",
        "x=data.data\n",
        "y=data.target\n",
        "from sklearn.model_selection import train_test_split\n",
        "\n",
        "xtrain,xtest,ytrain,ytest=train_test_split(x,y,train_size=0.8)\n",
        "from sklearn.svm import SVC\n",
        "ML=SVC()\n",
        "ML=ML.fit(xtrain,ytrain)\n",
        "result=ML.predict(xtest)\n",
        "from sklearn.metrics import accuracy_score\n",
        "score=accuracy_score(ytest,result)\n",
        "print(score*100)"
      ]
    },
    {
      "cell_type": "code",
      "execution_count": null,
      "metadata": {
        "colab": {
          "base_uri": "https://localhost:8080/"
        },
        "id": "I_uv4OUYNlnS",
        "outputId": "4deee689-8d53-4d19-b279-ffb23e9a741e"
      },
      "outputs": [
        {
          "name": "stdout",
          "output_type": "stream",
          "text": [
            "88.33333333333333\n"
          ]
        }
      ],
      "source": [
        "from sklearn.datasets import load_iris\n",
        "data=load_iris()\n",
        "x=data.data\n",
        "y=data.target\n",
        "from sklearn.model_selection import train_test_split\n",
        "\n",
        "xtrain,xtest,ytrain,ytest=train_test_split(x,y,train_size=0.2)\n",
        "from sklearn.svm import SVC\n",
        "ML=SVC(kernel='rbf')\n",
        "ML=ML.fit(xtrain,ytrain)\n",
        "result=ML.predict(xtest)\n",
        "from sklearn.metrics import accuracy_score\n",
        "score=accuracy_score(ytest,result)\n",
        "print(score*100)"
      ]
    },
    {
      "cell_type": "code",
      "execution_count": 8,
      "metadata": {
        "colab": {
          "base_uri": "https://localhost:8080/"
        },
        "id": "0dpL767FOae-",
        "outputId": "43afe34b-c6cd-444a-b1ec-f46928591179"
      },
      "outputs": [
        {
          "output_type": "stream",
          "name": "stdout",
          "text": [
            "85.25\n"
          ]
        }
      ],
      "source": [
        "import pandas as pd\n",
        "file=pd.read_csv(\"/content/letter.csv\")\n",
        "x=file.iloc[:,:-1]\n",
        "y=file[\"class\"]\n",
        "from sklearn.model_selection import train_test_split\n",
        "\n",
        "xtrain,xtest,ytrain,ytest=train_test_split(x,y,train_size=0.8)\n",
        "from sklearn.svm import SVC\n",
        "ML=SVC(kernel=\"linear\", C=.0)\n",
        "ML=ML.fit(xtrain, ytrain)\n",
        "result=ML.predict(xtest)\n",
        "from sklearn.metrics import accuracy_score\n",
        "score=accuracy_score(ytest,result)\n",
        "print(score*100)\n"
      ]
    },
    {
      "cell_type": "code",
      "execution_count": 9,
      "metadata": {
        "colab": {
          "base_uri": "https://localhost:8080/"
        },
        "outputId": "89161bf0-d0b8-4fdb-8a39-a1a93a3abf2e",
        "id": "SjWqqgM0d5cT"
      },
      "outputs": [
        {
          "output_type": "stream",
          "name": "stdout",
          "text": [
            "95.025\n"
          ]
        }
      ],
      "source": [
        "import pandas as pd\n",
        "file=pd.read_csv(\"/content/letter.csv\")\n",
        "x=file.iloc[:,:-1]\n",
        "y=file[\"class\"]\n",
        "from sklearn.model_selection import train_test_split\n",
        "\n",
        "xtrain,xtest,ytrain,ytest=train_test_split(x,y,train_size=0.8)\n",
        "from sklearn.svm import SVC\n",
        "ML=SVC(kernel=\"rbf\", C=3.0)\n",
        "ML=ML.fit(xtrain, ytrain)\n",
        "result=ML.predict(xtest)\n",
        "from sklearn.metrics import accuracy_score\n",
        "score=accuracy_score(ytest,result)\n",
        "print(score*100)\n"
      ]
    }
  ],
  "metadata": {
    "colab": {
      "name": "linearand nonlinear svm.ipynb",
      "provenance": []
    },
    "kernelspec": {
      "display_name": "Python 3",
      "name": "python3"
    },
    "language_info": {
      "name": "python"
    }
  },
  "nbformat": 4,
  "nbformat_minor": 0
}